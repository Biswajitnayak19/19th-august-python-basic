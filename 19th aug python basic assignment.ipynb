{
 "cells": [
  {
   "cell_type": "markdown",
   "id": "4fd745ab-7122-4dbd-8ed9-3c1907eca877",
   "metadata": {},
   "source": [
    "question no 1 swap value of variable x and y"
   ]
  },
  {
   "cell_type": "code",
   "execution_count": 1,
   "id": "763d49d1-76eb-4568-bd8e-2fb989b46795",
   "metadata": {},
   "outputs": [
    {
     "name": "stdout",
     "output_type": "stream",
     "text": [
      "6 5\n"
     ]
    }
   ],
   "source": [
    "x = 5\n",
    "y = 6\n",
    "x, y = y, x\n",
    "print(x, y)"
   ]
  },
  {
   "cell_type": "markdown",
   "id": "06e0a770-3b3a-4c24-96da-3e8692d1f94c",
   "metadata": {},
   "source": [
    "Question no 2 area of the recangle"
   ]
  },
  {
   "cell_type": "code",
   "execution_count": null,
   "id": "45989753-c74e-44ab-9b1a-037ce230d393",
   "metadata": {},
   "outputs": [],
   "source": [
    "l = int(input(\"enter the length of the rectangle in cm- \"))\n",
    "b = int(input(\"enter the bredth of the rectange in cm- \"))\n",
    "area = l * b\n",
    "print(\"area of the rectange is \" ,area, \" cm^2\" )"
   ]
  },
  {
   "cell_type": "markdown",
   "id": "49a702f5-60aa-4449-93b6-f56bb9cf826a",
   "metadata": {},
   "source": [
    "question no 3 convert celcius into degree of fahrenheit"
   ]
  },
  {
   "cell_type": "code",
   "execution_count": null,
   "id": "12a2e251-5499-4468-b50e-cf75f5d3aa67",
   "metadata": {},
   "outputs": [],
   "source": [
    "t = int(input(\"Enter the temperature in celcius - \"))\n",
    "f = 1.8 * t + 32\n",
    "print(f\"{t} degree celcius is equal to {f} degree fahrenheit.\")"
   ]
  },
  {
   "cell_type": "markdown",
   "id": "adffe190-029f-44e2-a533-544f102759e7",
   "metadata": {},
   "source": [
    "ques 4 to print the length of the string"
   ]
  },
  {
   "cell_type": "code",
   "execution_count": 1,
   "id": "0d413703-4ef4-4a17-9685-c2232c632303",
   "metadata": {},
   "outputs": [
    {
     "name": "stdin",
     "output_type": "stream",
     "text": [
      "Enter the string  hhjgjk\n"
     ]
    },
    {
     "name": "stdout",
     "output_type": "stream",
     "text": [
      "length of the sting is 6 .\n"
     ]
    }
   ],
   "source": [
    "a = input(\"Enter the string \")\n",
    "print(f\"length of the sting is {len(a)} .\")"
   ]
  },
  {
   "cell_type": "markdown",
   "id": "161a8fb7-9fb4-46eb-bc17-97d040a8b95a",
   "metadata": {},
   "source": [
    "Question no 5 count the vowel in a string"
   ]
  },
  {
   "cell_type": "code",
   "execution_count": 2,
   "id": "245d106d-0281-49f0-83c6-e0596cb6ed13",
   "metadata": {},
   "outputs": [
    {
     "name": "stdin",
     "output_type": "stream",
     "text": [
      "Enter the string-  asfdkjh\n"
     ]
    },
    {
     "name": "stdout",
     "output_type": "stream",
     "text": [
      "no of vowels present in the string is 1 .\n"
     ]
    }
   ],
   "source": [
    "a = input(\"Enter the string- \")\n",
    "b = a.lower()\n",
    "l = [\"a\", \"e\", \"i\", \"o\", \"u\"]\n",
    "count = 0\n",
    "for i in b:\n",
    "    for k in l:\n",
    "        if i == k:\n",
    "            count+=1\n",
    "        else:\n",
    "            continue\n",
    "print(f\"no of vowels present in the string is {count} .\")"
   ]
  },
  {
   "cell_type": "markdown",
   "id": "772d845b-43d7-4e4b-bed3-2e7e394ddf7b",
   "metadata": {},
   "source": [
    "ques 6 reverse the string using string slicing"
   ]
  },
  {
   "cell_type": "code",
   "execution_count": 4,
   "id": "b4369607-c3e7-4f87-9a93-b9c9158c47ce",
   "metadata": {},
   "outputs": [
    {
     "name": "stdin",
     "output_type": "stream",
     "text": [
      "enter the string-  asda\n"
     ]
    },
    {
     "name": "stdout",
     "output_type": "stream",
     "text": [
      "The reverse of the string you enter is adsa .\n"
     ]
    }
   ],
   "source": [
    "str1 = input(\"enter the string- \")\n",
    "str2 = str1[::-1]\n",
    "print(f\"The reverse of the string you enter is {str2} .\")"
   ]
  },
  {
   "cell_type": "markdown",
   "id": "dd051926-b1bf-4466-92ae-84d5af0bf846",
   "metadata": {},
   "source": [
    "ques 6 check the string is palindrome or not"
   ]
  },
  {
   "cell_type": "code",
   "execution_count": 2,
   "id": "7c0654ab-af75-4204-b7ef-a2409bdf25cb",
   "metadata": {},
   "outputs": [
    {
     "name": "stdin",
     "output_type": "stream",
     "text": [
      "enter the string -  sdfs\n"
     ]
    },
    {
     "name": "stdout",
     "output_type": "stream",
     "text": [
      "It is not a plaindrome.\n"
     ]
    }
   ],
   "source": [
    "s1 = input(\"enter the string - \")\n",
    "s2 = s1[::-1]\n",
    "if s1 == s2:\n",
    "    print(\"It is a palindrome.\")\n",
    "else:\n",
    "    print(\"It is not a plaindrome.\")"
   ]
  },
  {
   "cell_type": "markdown",
   "id": "5f6f6498-ee6e-48be-bb53-4bd70631cac1",
   "metadata": {},
   "source": [
    "q no 7 remove the white space from the string"
   ]
  },
  {
   "cell_type": "code",
   "execution_count": null,
   "id": "356a12ad-f4e0-454a-8613-bcdbea1b023d",
   "metadata": {},
   "outputs": [],
   "source": []
  }
 ],
 "metadata": {
  "kernelspec": {
   "display_name": "Python 3 (ipykernel)",
   "language": "python",
   "name": "python3"
  },
  "language_info": {
   "codemirror_mode": {
    "name": "ipython",
    "version": 3
   },
   "file_extension": ".py",
   "mimetype": "text/x-python",
   "name": "python",
   "nbconvert_exporter": "python",
   "pygments_lexer": "ipython3",
   "version": "3.10.8"
  }
 },
 "nbformat": 4,
 "nbformat_minor": 5
}
